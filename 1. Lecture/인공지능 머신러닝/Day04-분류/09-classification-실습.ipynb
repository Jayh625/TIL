{
 "cells": [
  {
   "cell_type": "code",
   "execution_count": 1,
   "metadata": {
    "executionInfo": {
     "elapsed": 768,
     "status": "ok",
     "timestamp": 1625728893665,
     "user": {
      "displayName": "정용훈",
      "photoUrl": "",
      "userId": "17415172075506377629"
     },
     "user_tz": -540
    },
    "id": "AtQS-m1xsT0A"
   },
   "outputs": [],
   "source": [
    "# libraries\n",
    "import numpy as np\n",
    "import scipy as sp\n",
    "import pandas as pd\n",
    "import matplotlib.pyplot as plt\n",
    "%matplotlib inline"
   ]
  },
  {
   "cell_type": "code",
   "execution_count": 2,
   "metadata": {
    "executionInfo": {
     "elapsed": 51,
     "status": "ok",
     "timestamp": 1625728893670,
     "user": {
      "displayName": "정용훈",
      "photoUrl": "",
      "userId": "17415172075506377629"
     },
     "user_tz": -540
    },
    "id": "HL92h1ZpsUt5"
   },
   "outputs": [],
   "source": [
    "# read data file\n",
    "df = pd.read_csv('./data/churn.csv')"
   ]
  },
  {
   "cell_type": "code",
   "execution_count": 3,
   "metadata": {},
   "outputs": [
    {
     "data": {
      "text/plain": [
       "Index(['RowNumber', 'CustomerId', 'Surname', 'CreditScore', 'Geography',\n",
       "       'Gender', 'Age', 'Tenure', 'Balance', 'NumOfProducts', 'HasCrCard',\n",
       "       'IsActiveMember', 'EstimatedSalary', 'Exited'],\n",
       "      dtype='object')"
      ]
     },
     "execution_count": 3,
     "metadata": {},
     "output_type": "execute_result"
    }
   ],
   "source": [
    "df.columns"
   ]
  },
  {
   "cell_type": "code",
   "execution_count": 4,
   "metadata": {},
   "outputs": [
    {
     "data": {
      "text/plain": [
       "array(['France', 'Spain', 'Germany'], dtype=object)"
      ]
     },
     "execution_count": 4,
     "metadata": {},
     "output_type": "execute_result"
    }
   ],
   "source": [
    "df['Geography'].unique()"
   ]
  },
  {
   "cell_type": "code",
   "execution_count": 5,
   "metadata": {},
   "outputs": [
    {
     "name": "stdout",
     "output_type": "stream",
     "text": [
      "   CreditScore Geography  Gender  Tenure    Balance  NumOfProducts  HasCrCard  \\\n",
      "0          619    France  Female       2       0.00              1          1   \n",
      "1          608     Spain  Female       1   83807.86              1          0   \n",
      "2          502    France  Female       8  159660.80              3          1   \n",
      "3          699    France  Female       1       0.00              2          0   \n",
      "4          850     Spain  Female       2  125510.82              1          1   \n",
      "\n",
      "   IsActiveMember  EstimatedSalary  Exited  \n",
      "0               1        101348.88       1  \n",
      "1               1        112542.58       0  \n",
      "2               0        113931.57       1  \n",
      "3               0         93826.63       0  \n",
      "4               1         79084.10       0  \n"
     ]
    }
   ],
   "source": [
    "df = df[['CreditScore', 'Geography', 'Gender', 'Tenure', 'Balance', \n",
    "         'NumOfProducts', 'HasCrCard', 'IsActiveMember', 'EstimatedSalary', 'Exited']]\n",
    "print(df.head())"
   ]
  },
  {
   "cell_type": "code",
   "execution_count": 6,
   "metadata": {},
   "outputs": [
    {
     "name": "stdout",
     "output_type": "stream",
     "text": [
      "   France  Germany  Spain\n",
      "0       1        0      0\n",
      "1       0        0      1\n",
      "2       1        0      0\n",
      "3       1        0      0\n",
      "4       0        0      1\n"
     ]
    }
   ],
   "source": [
    "geo_df = pd.get_dummies(df['Geography'])\n",
    "gender_df = pd.get_dummies(df['Gender'])\n",
    "\n",
    "print(geo_df.head())"
   ]
  },
  {
   "cell_type": "code",
   "execution_count": 7,
   "metadata": {},
   "outputs": [],
   "source": [
    "df = pd.concat([df, geo_df, gender_df], axis=1)"
   ]
  },
  {
   "cell_type": "code",
   "execution_count": 8,
   "metadata": {},
   "outputs": [
    {
     "name": "stdout",
     "output_type": "stream",
     "text": [
      "   CreditScore  Tenure    Balance  NumOfProducts  HasCrCard  IsActiveMember  \\\n",
      "0          619       2       0.00              1          1               1   \n",
      "1          608       1   83807.86              1          0               1   \n",
      "2          502       8  159660.80              3          1               0   \n",
      "3          699       1       0.00              2          0               0   \n",
      "4          850       2  125510.82              1          1               1   \n",
      "\n",
      "   EstimatedSalary  Exited  France  Germany  Spain  Female  Male  \n",
      "0        101348.88       1       1        0      0       1     0  \n",
      "1        112542.58       0       0        0      1       1     0  \n",
      "2        113931.57       1       1        0      0       1     0  \n",
      "3         93826.63       0       1        0      0       1     0  \n",
      "4         79084.10       0       0        0      1       1     0  \n"
     ]
    }
   ],
   "source": [
    "df = df.drop(['Geography', 'Gender'], axis=1)\n",
    "print(df.head())"
   ]
  },
  {
   "cell_type": "code",
   "execution_count": 9,
   "metadata": {},
   "outputs": [],
   "source": [
    "Y = df['Exited']\n",
    "\n",
    "X = df.copy()\n",
    "X = X.drop(['Exited'], axis=1)"
   ]
  },
  {
   "cell_type": "code",
   "execution_count": 10,
   "metadata": {},
   "outputs": [],
   "source": [
    "# # Separating traing & test sets\n",
    "# X = df.iloc[:,:-1]\n",
    "# Y = (df['Y'] > 140).factorize()[0]\n",
    "\n",
    "from sklearn.model_selection import train_test_split\n",
    "xtrain, xtest, ytrain, ytest = train_test_split(X,Y,test_size=0.33,random_state=1) "
   ]
  },
  {
   "cell_type": "code",
   "execution_count": null,
   "metadata": {},
   "outputs": [],
   "source": [
    "####################################################\n",
    "# RandomForestClassifier\n",
    "####################################################"
   ]
  },
  {
   "cell_type": "code",
   "execution_count": 13,
   "metadata": {},
   "outputs": [
    {
     "data": {
      "text/plain": [
       "0.8133333333333334"
      ]
     },
     "execution_count": 13,
     "metadata": {},
     "output_type": "execute_result"
    }
   ],
   "source": [
    "from sklearn.ensemble import RandomForestClassifier\n",
    "model = RandomForestClassifier()\n",
    "model.fit(xtrain, ytrain)\n",
    "\n",
    "pred = model.predict(xtest)\n",
    "\n",
    "from sklearn.metrics import accuracy_score\n",
    "accuracy_score(pred, ytest)\n",
    "\n",
    "# confusion matrix, classification report"
   ]
  },
  {
   "cell_type": "code",
   "execution_count": 15,
   "metadata": {},
   "outputs": [
    {
     "data": {
      "text/plain": [
       "array([0.20955707, 0.1133983 , 0.20082673, 0.1494052 , 0.02040766,\n",
       "       0.02947913, 0.21983893, 0.01077489, 0.02017403, 0.00866159,\n",
       "       0.0076992 , 0.00977727])"
      ]
     },
     "execution_count": 15,
     "metadata": {},
     "output_type": "execute_result"
    }
   ],
   "source": [
    "model.feature_importances_"
   ]
  },
  {
   "cell_type": "code",
   "execution_count": 16,
   "metadata": {},
   "outputs": [
    {
     "data": {
      "text/plain": [
       "Index(['CreditScore', 'Tenure', 'Balance', 'NumOfProducts', 'HasCrCard',\n",
       "       'IsActiveMember', 'EstimatedSalary', 'France', 'Germany', 'Spain',\n",
       "       'Female', 'Male'],\n",
       "      dtype='object')"
      ]
     },
     "execution_count": 16,
     "metadata": {},
     "output_type": "execute_result"
    }
   ],
   "source": [
    "xtrain.columns"
   ]
  },
  {
   "cell_type": "code",
   "execution_count": null,
   "metadata": {},
   "outputs": [],
   "source": [
    "# Scaler(Standard, MinMax...)\n",
    "# train with important features only\n",
    "# Correlation(VIF, correlation matrix) - 다중공선성"
   ]
  },
  {
   "cell_type": "code",
   "execution_count": null,
   "metadata": {
    "executionInfo": {
     "elapsed": 525,
     "status": "ok",
     "timestamp": 1625728898500,
     "user": {
      "displayName": "정용훈",
      "photoUrl": "",
      "userId": "17415172075506377629"
     },
     "user_tz": -540
    },
    "id": "IC28goEfsWtG"
   },
   "outputs": [],
   "source": [
    "####################################################\n",
    "# Linear Regression\n",
    "####################################################"
   ]
  },
  {
   "cell_type": "code",
   "execution_count": null,
   "metadata": {
    "colab": {
     "base_uri": "https://localhost:8080/"
    },
    "executionInfo": {
     "elapsed": 534,
     "status": "ok",
     "timestamp": 1625728898514,
     "user": {
      "displayName": "정용훈",
      "photoUrl": "",
      "userId": "17415172075506377629"
     },
     "user_tz": -540
    },
    "id": "yaZNWvnRsWqc",
    "outputId": "83f6458c-9c64-493a-d5d6-d7a83038913e"
   },
   "outputs": [],
   "source": [
    "# simple linear regression, Linear Regression\n",
    "from sklearn.linear_model import LogisticRegression\n",
    "\n"
   ]
  },
  {
   "cell_type": "code",
   "execution_count": null,
   "metadata": {
    "colab": {
     "base_uri": "https://localhost:8080/"
    },
    "executionInfo": {
     "elapsed": 381,
     "status": "ok",
     "timestamp": 1625728898521,
     "user": {
      "displayName": "정용훈",
      "photoUrl": "",
      "userId": "17415172075506377629"
     },
     "user_tz": -540
    },
    "id": "DC_07b3-sWlD",
    "outputId": "7d323ef8-0cae-4305-facd-029a38c6ddb5"
   },
   "outputs": [],
   "source": []
  },
  {
   "cell_type": "code",
   "execution_count": null,
   "metadata": {
    "id": "mbbRoxPHsltA"
   },
   "outputs": [],
   "source": [
    "####################################################\n",
    "# KNN Classifier\n",
    "####################################################"
   ]
  },
  {
   "cell_type": "code",
   "execution_count": null,
   "metadata": {
    "id": "5szjzMPOsloS"
   },
   "outputs": [],
   "source": [
    "# simple KNN classification\n",
    "from sklearn.neighbors import KNeighborsClassifier\n"
   ]
  },
  {
   "cell_type": "code",
   "execution_count": null,
   "metadata": {
    "id": "5LYsT7Jjs0CQ"
   },
   "outputs": [],
   "source": [
    "####################################################\n",
    "# Classification Tree\n",
    "####################################################"
   ]
  },
  {
   "cell_type": "code",
   "execution_count": null,
   "metadata": {
    "id": "DqlXziWJsz_x"
   },
   "outputs": [],
   "source": [
    "# classification tree, SVM, RF\n",
    "from sklearn.tree import DecisionTreeClassifier\n"
   ]
  },
  {
   "cell_type": "code",
   "execution_count": null,
   "metadata": {
    "id": "zNshCgWuszd-"
   },
   "outputs": [],
   "source": []
  }
 ],
 "metadata": {
  "colab": {
   "collapsed_sections": [],
   "name": "script02_classification.ipynb",
   "provenance": []
  },
  "kernelspec": {
   "display_name": "Python 3 (ipykernel)",
   "language": "python",
   "name": "python3"
  },
  "language_info": {
   "codemirror_mode": {
    "name": "ipython",
    "version": 3
   },
   "file_extension": ".py",
   "mimetype": "text/x-python",
   "name": "python",
   "nbconvert_exporter": "python",
   "pygments_lexer": "ipython3",
   "version": "3.7.12"
  }
 },
 "nbformat": 4,
 "nbformat_minor": 1
}
