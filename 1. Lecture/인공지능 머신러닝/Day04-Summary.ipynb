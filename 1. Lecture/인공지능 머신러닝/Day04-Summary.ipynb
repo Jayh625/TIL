{
 "cells": [
  {
   "cell_type": "markdown",
   "id": "ea2d4c96",
   "metadata": {},
   "source": [
    "## 정리\n",
    "\n",
    "### 회귀모델\n",
    "    1. 지도학습(target 또는 label이 있는 학습방법) 중 continuous data를 맞추는 데이터 분석 방법\n",
    "    2. 모든 회귀분석 모델의 성능 평가방법\n",
    "        - R squared 값은 0~1 사이의 값이며, 1에 가까울수록 회귀모델이 데이터를 잘 설명한다고 볼 수 있다.\n",
    "        - MSE와 MAE는 모델의 예측값과 실제 정답의 차이를 계산(측정)하고, 이는 모델의 에러값이다. 낮으면 낮을수록 좋다.\n",
    "    3. 단순회귀분석\n",
    "        - y = ax + b(x는 feature, y는 label)\n",
    "    4. 다중회귀분석\n",
    "        - y = ax1 + bx2 + cx3(x1, x2, x3은 모두 features)\n",
    "        - 다중공선성문제에 주의해야한다! (x1, x2, x3는 서로 최대한 독립적이어야 한다)\n",
    "    5. 다항회귀분석\n",
    "        - y = ax^2 + bx + c(차수가 2이상인 방정식을 푸는 문제)\n",
    "        - scikit-learn의 polynomialfeatures를 활용하여 features를 만들고 모델링을 진행한다.\n",
    "    6. statsmodels와 scikit-learn의 LinearRegression"
   ]
  },
  {
   "cell_type": "markdown",
   "id": "6b0f24e4",
   "metadata": {},
   "source": [
    "### 분류모델\n",
    "    1. 나이브베이즈 분류기(GaussianNB)\n",
    "        1) 조건부 확률\n",
    "        2) 베이즈 정리\n",
    "        3) 나이브 베이즈 분류기는 다음과 같은 종류가 있다\n",
    "            - GaussianNB, MultinomialNB, BernoulliNB\n",
    "        4) 텍스트 데이터 분석을 위한 참고\n",
    "            - 텍스트를 숫자로 변환하는 데이터 전처리가 필요하다\n",
    "            - TfidfVectorizer, CountVectorizer\n",
    "        5) Confusion Matrix/Classification Report에 대한 이해(https://carriedata.tistory.com/entry/%EC%98%A4%EC%B0%A8-%ED%96%89%EB%A0%ACconfusion-matrix%EB%A1%9C-%EB%B6%84%EB%A5%98-%EC%84%B1%EB%8A%A5-%ED%8F%89%EA%B0%80)\n",
    "            - accuracy, precision, recall, f1-score\n",
    "            - True Positive, True Negative(음 또는 양을 제대로 예측한 경우)\n",
    "            - False Positive, False Negative(음 또는 양을 틀리게 예측한 경우)\n",
    "            \n",
    "    2. 서포트벡터머신(SVM)\n",
    "        1) Decision Boundary(결정 경계)\n",
    "        2) Support Vectors, Margin(마진)\n",
    "        3) 학습되는 원리\n",
    "            - Support Vectors를 찾는다 -> Decision Boundary -> Decision Boundary와 Support Vectors간의 간격(Margin)을 최대화하는 모델을 만든다 : 모델이 데이터를 잘 설명하고 있다!\n",
    "        4) 선형 - LinearSVC\n",
    "        5) 비선형 - kernel함수\n",
    "            - kernel: rbf, poly 등등\n",
    "            - rbf를 많이 사용한다, rbf는 2차원 데이터를 무제한 차원으로 확장한다.\n",
    "        6) 주목해야할 하이퍼파라미터\n",
    "            - C: 마진을 넓히느냐, 좁히느냐에 관한 하이퍼파라미터\n",
    "            - gamma: 얼마나 많은 굴곡을 만드느냐(구부리냐, 유연하게 하냐)에 대한 하이퍼파라미터\n",
    "        7) 이미지데이터: MNIST -> 이미지 데이터 역시 텍스트와 마찬가지로 vectorizer를 해야한다 -> rgb 등 이미지 픽셀을 숫자로 변환하는 작업입니다!"
   ]
  },
  {
   "cell_type": "code",
   "execution_count": null,
   "id": "5e9607bc",
   "metadata": {},
   "outputs": [],
   "source": []
  }
 ],
 "metadata": {
  "kernelspec": {
   "display_name": "Python 3 (ipykernel)",
   "language": "python",
   "name": "python3"
  },
  "language_info": {
   "codemirror_mode": {
    "name": "ipython",
    "version": 3
   },
   "file_extension": ".py",
   "mimetype": "text/x-python",
   "name": "python",
   "nbconvert_exporter": "python",
   "pygments_lexer": "ipython3",
   "version": "3.7.12"
  }
 },
 "nbformat": 4,
 "nbformat_minor": 5
}
